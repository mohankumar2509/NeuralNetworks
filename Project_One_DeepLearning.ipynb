{
  "nbformat": 4,
  "nbformat_minor": 0,
  "metadata": {
    "colab": {
      "provenance": [],
      "toc_visible": true,
      "gpuType": "T4"
    },
    "kernelspec": {
      "name": "python3",
      "display_name": "Python 3"
    },
    "language_info": {
      "name": "python"
    },
    "accelerator": "GPU"
  },
  "cells": [
    {
      "cell_type": "markdown",
      "source": [
        "### Press Shift + Ctrl + Space to read the docstring"
      ],
      "metadata": {
        "id": "TkUJ_zX0OM89"
      }
    },
    {
      "cell_type": "code",
      "source": [
        "what_are_covered = {1: \"data (prepare and load)\",\n",
        "                    2: \"build model\",\n",
        "                    3: \"fitting the model to data (training)\",\n",
        "                    4: \"making predictions and evaluating a model (inference)\",\n",
        "                    5: \"saving and loading a model\",\n",
        "                    6: \"putting it all together\"}\n",
        "what_are_covered"
      ],
      "metadata": {
        "colab": {
          "base_uri": "https://localhost:8080/"
        },
        "id": "qmHDoZpNOVe5",
        "outputId": "f8d14d49-afbb-4547-e02e-a31c2de278c3"
      },
      "execution_count": 1,
      "outputs": [
        {
          "output_type": "execute_result",
          "data": {
            "text/plain": [
              "{1: 'data (prepare and load)',\n",
              " 2: 'build model',\n",
              " 3: 'fitting the model to data (training)',\n",
              " 4: 'making predictions and evaluating a model (inference)',\n",
              " 5: 'saving and loading a model',\n",
              " 6: 'putting it all together'}"
            ]
          },
          "metadata": {},
          "execution_count": 1
        }
      ]
    },
    {
      "cell_type": "code",
      "source": [
        "import torch\n",
        "import numpy as np\n",
        "import pandas as pd\n",
        "from torch import nn # nn contains all of Pytorch building blocks for neural networks\n",
        "import matplotlib.pyplot as plt\n",
        "\n",
        "torch.__version__"
      ],
      "metadata": {
        "colab": {
          "base_uri": "https://localhost:8080/",
          "height": 36
        },
        "id": "RMFEdfCqP5JC",
        "outputId": "730b79c0-2371-428c-f1cb-5d6547c47621"
      },
      "execution_count": 2,
      "outputs": [
        {
          "output_type": "execute_result",
          "data": {
            "text/plain": [
              "'2.6.0+cu124'"
            ],
            "application/vnd.google.colaboratory.intrinsic+json": {
              "type": "string"
            }
          },
          "metadata": {},
          "execution_count": 2
        }
      ]
    },
    {
      "cell_type": "markdown",
      "source": [
        "## Data (preparing and loading)\n",
        "\n",
        "Data can be anything... in Machine learning\n",
        "\n",
        "* Excel Spreadsheet\n",
        "* Images of any kind\n",
        "* Videos (Youtube has lots of data...)\n",
        "* Audio like songs or podcasts\n",
        "* DNA\n",
        "* Text\n",
        "\n",
        "Machine Learning is a game of Two parts\n",
        "1. Get data into a numerical representation.\n",
        "2. Build a model to learn patterns in that numerical representation."
      ],
      "metadata": {
        "id": "UA3jQW-mQ-iT"
      }
    },
    {
      "cell_type": "code",
      "source": [
        "## Data (preparing and loading)\n",
        "\n",
        "weight = 0.7\n",
        "bias = 0.3\n",
        "\n",
        "X = torch.arange(0, 10, 0.02).unsqueeze(dim=1)\n",
        "y = weight * X + bias\n",
        "\n",
        "print(X[:10])\n",
        "print(y[:10])"
      ],
      "metadata": {
        "colab": {
          "base_uri": "https://localhost:8080/"
        },
        "id": "C5oJvS_qQYB2",
        "outputId": "1f1e76b4-4f6e-4096-ddf2-2cdcc450cfc5"
      },
      "execution_count": 3,
      "outputs": [
        {
          "output_type": "stream",
          "name": "stdout",
          "text": [
            "tensor([[0.0000],\n",
            "        [0.0200],\n",
            "        [0.0400],\n",
            "        [0.0600],\n",
            "        [0.0800],\n",
            "        [0.1000],\n",
            "        [0.1200],\n",
            "        [0.1400],\n",
            "        [0.1600],\n",
            "        [0.1800]])\n",
            "tensor([[0.3000],\n",
            "        [0.3140],\n",
            "        [0.3280],\n",
            "        [0.3420],\n",
            "        [0.3560],\n",
            "        [0.3700],\n",
            "        [0.3840],\n",
            "        [0.3980],\n",
            "        [0.4120],\n",
            "        [0.4260]])\n"
          ]
        }
      ]
    },
    {
      "cell_type": "code",
      "source": [
        "len(X), len(y)"
      ],
      "metadata": {
        "colab": {
          "base_uri": "https://localhost:8080/"
        },
        "id": "h7yM3OvsQ3zr",
        "outputId": "c41a977f-ef6e-4a6d-a96c-c15285c5cf56"
      },
      "execution_count": 4,
      "outputs": [
        {
          "output_type": "execute_result",
          "data": {
            "text/plain": [
              "(500, 500)"
            ]
          },
          "metadata": {},
          "execution_count": 4
        }
      ]
    },
    {
      "cell_type": "markdown",
      "source": [
        "### Splitting data into training and test sets (one of the most important concepts in machine learning)\n",
        "\n",
        "If you're a University Student\n",
        "\n",
        "* Course Materials (Trainig Set) ~ 60% - 80%\n",
        "* Practice Exam (Validation Set) ~ 10% - 20%\n",
        "* Final Exam (test Set) ~ 10% - 20%"
      ],
      "metadata": {
        "id": "OMGbkc8iWRCX"
      }
    },
    {
      "cell_type": "code",
      "source": [
        "#Creating Train and test data\n",
        "\n",
        "train_len = int(0.8 * len(X))\n",
        "X_train, y_train = X[:train_len], y[:train_len]\n",
        "X_test, y_test = X[train_len:], y[train_len:]\n",
        "len(X_train), len(X_test), len(y_train), len(y_test)"
      ],
      "metadata": {
        "colab": {
          "base_uri": "https://localhost:8080/"
        },
        "id": "NHyoiGKvV2cT",
        "outputId": "8a44423e-bd7f-40af-e849-b7455ef25ef8"
      },
      "execution_count": 5,
      "outputs": [
        {
          "output_type": "execute_result",
          "data": {
            "text/plain": [
              "(400, 100, 400, 100)"
            ]
          },
          "metadata": {},
          "execution_count": 5
        }
      ]
    },
    {
      "cell_type": "code",
      "source": [
        "def plot_predictions(xtrain = X_train, ytrain = y_train, xtest = X_test, ytest = y_test, predictions = None):\n",
        "  plt.figure(figsize=(5,3))\n",
        "  plt.scatter(xtrain, ytrain, c= \"b\", s=4, label = \"Training Data\")\n",
        "  plt.scatter(xtest, ytest, c= \"g\", s = 4, label = \"Testing Data\")\n",
        "  if predictions is not None:\n",
        "    plt.scatter(xtest, predictions, c = \"r\", s= 4, label = \"Predictions\")\n",
        "  plt.legend(prop={\"size\":14})"
      ],
      "metadata": {
        "id": "lLeqPuFnYWTg"
      },
      "execution_count": 6,
      "outputs": []
    },
    {
      "cell_type": "code",
      "source": [
        "plot_predictions()"
      ],
      "metadata": {
        "colab": {
          "base_uri": "https://localhost:8080/",
          "height": 291
        },
        "id": "DQ3ViXbecwQB",
        "outputId": "7c99253d-9392-418e-a4d4-b32df3192cb3"
      },
      "execution_count": 7,
      "outputs": [
        {
          "output_type": "display_data",
          "data": {
            "text/plain": [
              "<Figure size 500x300 with 1 Axes>"
            ],
            "image/png": "[encoded data removed]"
          },
          "metadata": {}
        }
      ]
    },
    {
      "cell_type": "markdown",
      "source": [
        "### Build Model\n",
        "\n",
        "First Pytorch Model\n",
        "\n",
        "What our model will do:\n",
        "\n",
        "* start with random values (Weight and Bias)\n",
        "* Look at tarining data and adjust the random values to better represent (or get closer to) the ideal values (the weight & bias values we used to create the data)\n",
        "\n",
        "How does it do so?\n",
        "\n",
        "1. Gradient Descent\n",
        "2. Backpropagation"
      ],
      "metadata": {
        "id": "cUmby184d5H4"
      }
    },
    {
      "cell_type": "code",
      "source": [
        "# Create Linear Regression Model Class\n",
        "\n",
        "class LinearregressionModel(nn.Module): # <- almost everything in Pytorch inherits from nn.Module\n",
        "      def __init__(self):\n",
        "        super().__init__()\n",
        "        self.weights = nn.Parameter(torch.randn(1, # <- Start with a random weight and try to adjust it to the ideal weight\n",
        "                                                requires_grad=True,  # <- Can this parameter be updated via gradient descent?\n",
        "                                                dtype = torch.float)) # <- Pytorch loves the datatype torch.float32\n",
        "        self.bias = nn.Parameter(torch.randn(1, requires_grad=True, dtype = torch.float))\n",
        "\n",
        "\n",
        "      # Forward method to define the computation in the model\n",
        "      def forward(self, x: torch.tensor) -> torch.Tensor: # <- \"x\" is the input data, Any SubClass of nn.module needs to override forward() which defines forward computation of the model\n",
        "        return self.weights * x + self.bias"
      ],
      "metadata": {
        "id": "OQ8jubJIcycZ"
      },
      "execution_count": 8,
      "outputs": []
    },
    {
      "cell_type": "markdown",
      "source": [
        "### Pytorch Model Building Essentials\n",
        "\n",
        "\n",
        "*   torch.nn - contains all of the buildings for computational graphs (a neural network can be considered a computational graph)\n",
        "*   torch.nn.parameter - what parameter should our model try and learn, often a pytorch layer from torch.nn will set these for us\n",
        "*  torch.nn.Module - the base close for all neural network modules if you subclass if you should overwrite forward()\n",
        "* torch.optim - this is where the optimizers in pytorch live, they will help with gradient descent.\n",
        "* def forward() - Any module that inherits nn.module must override forward methos.\n",
        "* torch.utils.data.Dataset - Represents a map between key (label) and sample (features) pairs of your data. Such as images and their associated labels.\n",
        "* torch.utils.data.DataLoader - creates a python iterable over a torch Dataset (allows you to iterate over your data)\n",
        "\n",
        "\n",
        "\n"
      ],
      "metadata": {
        "id": "BWQrrJlgeEJu"
      }
    },
    {
      "cell_type": "markdown",
      "source": [
        "### Checking the contents of our PyTorch model\n",
        "\n",
        "Now We've created a model. let'see what's inside...\n",
        "\n",
        "So we can check our model parameters or what's inside our model using .parameters()"
      ],
      "metadata": {
        "id": "EAmCyCVzFG5k"
      }
    },
    {
      "cell_type": "code",
      "source": [
        "#Create a random seed\n",
        "torch.manual_seed(42)\n",
        "\n",
        "#Create an instance of our model (this is subclass of nn.Module)\n",
        "model_0 = LinearregressionModel()\n",
        "list(model_0.parameters())"
      ],
      "metadata": {
        "colab": {
          "base_uri": "https://localhost:8080/"
        },
        "id": "cfgOBsxtB0dt",
        "outputId": "72eea399-4691-4743-8142-d349f7a7735e"
      },
      "execution_count": 9,
      "outputs": [
        {
          "output_type": "execute_result",
          "data": {
            "text/plain": [
              "[Parameter containing:\n",
              " tensor([0.3367], requires_grad=True),\n",
              " Parameter containing:\n",
              " tensor([0.1288], requires_grad=True)]"
            ]
          },
          "metadata": {},
          "execution_count": 9
        }
      ]
    },
    {
      "cell_type": "code",
      "source": [
        "#List Named Parameters\n",
        "\n",
        "model_0.state_dict()"
      ],
      "metadata": {
        "colab": {
          "base_uri": "https://localhost:8080/"
        },
        "id": "TS--8GNEI6iv",
        "outputId": "2a9a0e41-070c-4332-f6b0-8e7efea0aa20"
      },
      "execution_count": 10,
      "outputs": [
        {
          "output_type": "execute_result",
          "data": {
            "text/plain": [
              "OrderedDict([('weights', tensor([0.3367])), ('bias', tensor([0.1288]))])"
            ]
          },
          "metadata": {},
          "execution_count": 10
        }
      ]
    },
    {
      "cell_type": "code",
      "source": [
        "weight, bias # <- Model Parameters should match these terms"
      ],
      "metadata": {
        "colab": {
          "base_uri": "https://localhost:8080/"
        },
        "id": "C3VtFAjSI8Us",
        "outputId": "57172dca-a3b7-401c-8da6-fba60baf186d"
      },
      "execution_count": 11,
      "outputs": [
        {
          "output_type": "execute_result",
          "data": {
            "text/plain": [
              "(0.7, 0.3)"
            ]
          },
          "metadata": {},
          "execution_count": 11
        }
      ]
    },
    {
      "cell_type": "markdown",
      "source": [
        "### Making predictions using 'torch.inference_mode()'\n",
        "\n",
        "To check our model's predictive power, let's see how well it predicts `y_test` based on `x_test`.\n",
        "\n",
        "When we pass data through our model, it's going to run it through the forward() method."
      ],
      "metadata": {
        "id": "6LitnSLwJsCG"
      }
    },
    {
      "cell_type": "code",
      "source": [
        "with torch.inference_mode(): # <- In evaluation scripts where gradients are unnecessary we used Inference Modes, It disables gradient computation and other autograd-related features.\n",
        "  y_preds = model_0(X_test)\n",
        "\n",
        "y_preds"
      ],
      "metadata": {
        "colab": {
          "base_uri": "https://localhost:8080/"
        },
        "collapsed": true,
        "id": "v97pr8DwKvAM",
        "outputId": "38150631-98eb-4e8d-861c-26fe8a0c99c8"
      },
      "execution_count": 12,
      "outputs": [
        {
          "output_type": "execute_result",
          "data": {
            "text/plain": [
              "tensor([[2.8223],\n",
              "        [2.8291],\n",
              "        [2.8358],\n",
              "        [2.8425],\n",
              "        [2.8493],\n",
              "        [2.8560],\n",
              "        [2.8627],\n",
              "        [2.8695],\n",
              "        [2.8762],\n",
              "        [2.8829],\n",
              "        [2.8897],\n",
              "        [2.8964],\n",
              "        [2.9031],\n",
              "        [2.9099],\n",
              "        [2.9166],\n",
              "        [2.9233],\n",
              "        [2.9301],\n",
              "        [2.9368],\n",
              "        [2.9435],\n",
              "        [2.9503],\n",
              "        [2.9570],\n",
              "        [2.9637],\n",
              "        [2.9705],\n",
              "        [2.9772],\n",
              "        [2.9839],\n",
              "        [2.9907],\n",
              "        [2.9974],\n",
              "        [3.0041],\n",
              "        [3.0109],\n",
              "        [3.0176],\n",
              "        [3.0243],\n",
              "        [3.0311],\n",
              "        [3.0378],\n",
              "        [3.0445],\n",
              "        [3.0513],\n",
              "        [3.0580],\n",
              "        [3.0647],\n",
              "        [3.0715],\n",
              "        [3.0782],\n",
              "        [3.0850],\n",
              "        [3.0917],\n",
              "        [3.0984],\n",
              "        [3.1052],\n",
              "        [3.1119],\n",
              "        [3.1186],\n",
              "        [3.1254],\n",
              "        [3.1321],\n",
              "        [3.1388],\n",
              "        [3.1456],\n",
              "        [3.1523],\n",
              "        [3.1590],\n",
              "        [3.1658],\n",
              "        [3.1725],\n",
              "        [3.1792],\n",
              "        [3.1860],\n",
              "        [3.1927],\n",
              "        [3.1994],\n",
              "        [3.2062],\n",
              "        [3.2129],\n",
              "        [3.2196],\n",
              "        [3.2264],\n",
              "        [3.2331],\n",
              "        [3.2398],\n",
              "        [3.2466],\n",
              "        [3.2533],\n",
              "        [3.2600],\n",
              "        [3.2668],\n",
              "        [3.2735],\n",
              "        [3.2802],\n",
              "        [3.2870],\n",
              "        [3.2937],\n",
              "        [3.3004],\n",
              "        [3.3072],\n",
              "        [3.3139],\n",
              "        [3.3206],\n",
              "        [3.3274],\n",
              "        [3.3341],\n",
              "        [3.3408],\n",
              "        [3.3476],\n",
              "        [3.3543],\n",
              "        [3.3610],\n",
              "        [3.3678],\n",
              "        [3.3745],\n",
              "        [3.3812],\n",
              "        [3.3880],\n",
              "        [3.3947],\n",
              "        [3.4014],\n",
              "        [3.4082],\n",
              "        [3.4149],\n",
              "        [3.4216],\n",
              "        [3.4284],\n",
              "        [3.4351],\n",
              "        [3.4418],\n",
              "        [3.4486],\n",
              "        [3.4553],\n",
              "        [3.4620],\n",
              "        [3.4688],\n",
              "        [3.4755],\n",
              "        [3.4822],\n",
              "        [3.4890]])"
            ]
          },
          "metadata": {},
          "execution_count": 12
        }
      ]
    },
    {
      "cell_type": "code",
      "source": [
        "plot_predictions(predictions=y_preds)"
      ],
      "metadata": {
        "colab": {
          "base_uri": "https://localhost:8080/",
          "height": 291
        },
        "id": "Uw6C8TuMRaeE",
        "outputId": "59fcf050-2c63-4479-f893-eec2bcf53b8c"
      },
      "execution_count": 13,
      "outputs": [
        {
          "output_type": "display_data",
          "data": {
            "text/plain": [
              "<Figure size 500x300 with 1 Axes>"
            ],
            "image/png": "[encoded data removed]"
          },
          "metadata": {}
        }
      ]
    },
    {
      "cell_type": "markdown",
      "source": [
        "### 3. Model\n",
        "\n",
        "the whole idea of training is for a model to move from some unknown parameters.\n",
        "\n",
        "In other wordsfrom a poor presentation of the data to a better representation of the data.\n",
        "\n",
        "ONe way to measure how poor or how wrong your models predictions are is to use a loss function.\n",
        "\n",
        "* Note: Loss Function may also be called Cost Function or Criterion in different areas. For our case, we're going to referto it as a loss function.\n",
        "\n",
        "* Loss Function - A function to measure how wrong your model's predictions are to the ideal outputs, Lower is better.\n",
        "* Optimizer - Takes into account the loss of a model and adjust the model's parameters (e.g., Weight, bias) to improve the Loss Function.\n",
        "    Inside the optimizer, we will often have to set two parameters().\n",
        "\n",
        "    * params - the model parameters we would like to optimize, for example params = model_0.parameters()\n",
        "    * lr (learning rate) - the learning rate is a hyperparameter that defines how big/small the optimizer changes the parameters with each step (a small lr results in small changes, a large lr results in large changes)\n",
        "\n",
        "And specifically for Pytorch, we need\n",
        "\n",
        "* A training loop\n",
        "* A testing loop"
      ],
      "metadata": {
        "id": "zE0538GRa_l1"
      }
    },
    {
      "cell_type": "code",
      "source": [
        "list(model_0.parameters())"
      ],
      "metadata": {
        "colab": {
          "base_uri": "https://localhost:8080/"
        },
        "id": "d4WN5kQHbuXw",
        "outputId": "61d96025-0bb9-420f-bee9-0512acb0138b"
      },
      "execution_count": 14,
      "outputs": [
        {
          "output_type": "execute_result",
          "data": {
            "text/plain": [
              "[Parameter containing:\n",
              " tensor([0.3367], requires_grad=True),\n",
              " Parameter containing:\n",
              " tensor([0.1288], requires_grad=True)]"
            ]
          },
          "metadata": {},
          "execution_count": 14
        }
      ]
    },
    {
      "cell_type": "code",
      "source": [
        "# Checkout our model's parameters (a parameter is a value that the model sets itself)\n",
        "model_0.state_dict()"
      ],
      "metadata": {
        "colab": {
          "base_uri": "https://localhost:8080/"
        },
        "id": "CrH-IowyebNG",
        "outputId": "0e1b7554-d919-431c-ba2a-0b7f03d66e94"
      },
      "execution_count": 15,
      "outputs": [
        {
          "output_type": "execute_result",
          "data": {
            "text/plain": [
              "OrderedDict([('weights', tensor([0.3367])), ('bias', tensor([0.1288]))])"
            ]
          },
          "metadata": {},
          "execution_count": 15
        }
      ]
    },
    {
      "cell_type": "code",
      "source": [
        "# Setup a Loss Function\n",
        "loss_fn = nn.L1Loss()\n",
        "\n",
        "# Setup an Optimizer (Stochastic Gradient Descent)\n",
        "optimizer = torch.optim.SGD(params=model_0.parameters(),\n",
        "                            lr = 0.001) # lr -> possibly the most important Hyperparameter you can set"
      ],
      "metadata": {
        "id": "Cn_FhBqHee5p"
      },
      "execution_count": 16,
      "outputs": []
    },
    {
      "cell_type": "markdown",
      "source": [
        "### Building a Training loop and Testing loop in Pytorch\n",
        "\n",
        "A Couple of things we need in training loop\n",
        "\n",
        "0. Loop through the data\n",
        "1. Forward pass - this involves data moving through our model's `forward()` functions to make predictions on data - also called forward propagation\n",
        "2. Calculate the loss (compare forward pass predictions to ground truth labels)\n",
        "3. Optimizer zero grad\n",
        "4. Loss Backward - move backwards through the network to calculate the gradients of each of the parameters of our model with respect to the loss (**BackPropagation**)\n",
        "5. optimizer Step - use the optimizer to adjust our model's parameters to try and improve the Loss (**Gradient Descent**)\n"
      ],
      "metadata": {
        "id": "xVPrOBdntK8I"
      }
    },
    {
      "cell_type": "code",
      "source": [
        "torch.manual_seed(42)\n",
        "# An epoch is one loop through the data..\n",
        "epochs = 500\n",
        "\n",
        "#Setup empty Lists to keep track of model progress\n",
        "epoch_count= []\n",
        "train_loss_values = []\n",
        "test_loss_values = []\n",
        "\n",
        "\n",
        "## Training\n",
        "# 0. Loop through the Data\n",
        "for epoch in range(epochs):\n",
        "  # Set the model to training mode - Pytorch model has different modes and the default is training mode.\n",
        "  model_0.train() # train mode in pytorch sets all parameters that require gradients to true\n",
        "\n",
        "  #1. Forward pass\n",
        "  y_pred = model_0(X_train)\n",
        "\n",
        "  #2. Calculte the Loss\n",
        "  loss = loss_fn(y_pred, y_train)\n",
        "\n",
        "  #3. Optimizer Zero Grad\n",
        "  optimizer.zero_grad() # If you don't zero out the gradients before calling loss.backward(), the new gradients will accumulate on top of the previous ones, leading to incorrect gradient values.\n",
        "\n",
        "  #4. Perform backpropagation on the loss with respect to the parameters of the model\n",
        "  loss.backward()\n",
        "\n",
        "  #5 step the optimizer (perform Gradient descent)\n",
        "  optimizer.step()\n",
        "\n",
        "  ### Testing\n",
        "  model_0.eval() # turns off different settings in the model not needed for evaluation/testing (dropout/batch norm layers)\n",
        "  with torch.inference_mode(): #with torch.no_grad() -> you may see torch.no_grad() in older Pytorch code\n",
        "      #1. Do Forward Pass\n",
        "      test_pred = model_0(X_test)\n",
        "\n",
        "      #2. calculate the Loss\n",
        "      test_loss = loss_fn(test_pred, y_test)\n",
        "\n",
        "  epoch_count.append(epoch)\n",
        "  train_loss_values.append(loss)\n",
        "  test_loss_values.append(test_loss)\n",
        "\n",
        "  if epoch % 10 == 0:\n",
        "    print(f\"Epoch: {epoch} | Loss: {loss} | Test_Loss: {test_loss} Model state dict: {model_0.state_dict()}\")\n"
      ],
      "metadata": {
        "colab": {
          "base_uri": "https://localhost:8080/"
        },
        "id": "8mkRdR_2wVFE",
        "outputId": "3d44fde7-ed60-4ac3-96e4-a92d72987e77"
      },
      "execution_count": 17,
      "outputs": [
        {
          "output_type": "stream",
          "name": "stdout",
          "text": [
            "Epoch: 0 | Loss: 1.6207962036132812 | Test_Loss: 3.4004745483398438 Model state dict: OrderedDict([('weights', tensor([0.3407])), ('bias', tensor([0.1298]))])\n",
            "Epoch: 10 | Loss: 1.4515953063964844 | Test_Loss: 3.031773567199707 Model state dict: OrderedDict([('weights', tensor([0.3806])), ('bias', tensor([0.1398]))])\n",
            "Epoch: 20 | Loss: 1.2823944091796875 | Test_Loss: 2.6630730628967285 Model state dict: OrderedDict([('weights', tensor([0.4205])), ('bias', tensor([0.1498]))])\n",
            "Epoch: 30 | Loss: 1.1131936311721802 | Test_Loss: 2.29437255859375 Model state dict: OrderedDict([('weights', tensor([0.4604])), ('bias', tensor([0.1598]))])\n",
            "Epoch: 40 | Loss: 0.9439928531646729 | Test_Loss: 1.9256722927093506 Model state dict: OrderedDict([('weights', tensor([0.5003])), ('bias', tensor([0.1698]))])\n",
            "Epoch: 50 | Loss: 0.7747920155525208 | Test_Loss: 1.556971549987793 Model state dict: OrderedDict([('weights', tensor([0.5402])), ('bias', tensor([0.1798]))])\n",
            "Epoch: 60 | Loss: 0.6055911779403687 | Test_Loss: 1.1882712841033936 Model state dict: OrderedDict([('weights', tensor([0.5801])), ('bias', tensor([0.1898]))])\n",
            "Epoch: 70 | Loss: 0.43639037013053894 | Test_Loss: 0.8195705413818359 Model state dict: OrderedDict([('weights', tensor([0.6200])), ('bias', tensor([0.1998]))])\n",
            "Epoch: 80 | Loss: 0.267189621925354 | Test_Loss: 0.4508698284626007 Model state dict: OrderedDict([('weights', tensor([0.6599])), ('bias', tensor([0.2098]))])\n",
            "Epoch: 90 | Loss: 0.09798882156610489 | Test_Loss: 0.0821695551276207 Model state dict: OrderedDict([('weights', tensor([0.6998])), ('bias', tensor([0.2198]))])\n",
            "Epoch: 100 | Loss: 0.030895397067070007 | Test_Loss: 0.04478403180837631 Model state dict: OrderedDict([('weights', tensor([0.7132])), ('bias', tensor([0.2260]))])\n",
            "Epoch: 110 | Loss: 0.02922634407877922 | Test_Loss: 0.04251549392938614 Model state dict: OrderedDict([('weights', tensor([0.7125])), ('bias', tensor([0.2300]))])\n",
            "Epoch: 120 | Loss: 0.027557535097002983 | Test_Loss: 0.039990879595279694 Model state dict: OrderedDict([('weights', tensor([0.7118])), ('bias', tensor([0.2340]))])\n",
            "Epoch: 130 | Loss: 0.025888381525874138 | Test_Loss: 0.03746606037020683 Model state dict: OrderedDict([('weights', tensor([0.7111])), ('bias', tensor([0.2380]))])\n",
            "Epoch: 140 | Loss: 0.024219226092100143 | Test_Loss: 0.035197749733924866 Model state dict: OrderedDict([('weights', tensor([0.7104])), ('bias', tensor([0.2420]))])\n",
            "Epoch: 150 | Loss: 0.022550266236066818 | Test_Loss: 0.03267267346382141 Model state dict: OrderedDict([('weights', tensor([0.7096])), ('bias', tensor([0.2461]))])\n",
            "Epoch: 160 | Loss: 0.0208811666816473 | Test_Loss: 0.030148062855005264 Model state dict: OrderedDict([('weights', tensor([0.7089])), ('bias', tensor([0.2501]))])\n",
            "Epoch: 170 | Loss: 0.01921219564974308 | Test_Loss: 0.027879538014531136 Model state dict: OrderedDict([('weights', tensor([0.7082])), ('bias', tensor([0.2541]))])\n",
            "Epoch: 180 | Loss: 0.017543135210871696 | Test_Loss: 0.025354914367198944 Model state dict: OrderedDict([('weights', tensor([0.7075])), ('bias', tensor([0.2581]))])\n",
            "Epoch: 190 | Loss: 0.01587400957942009 | Test_Loss: 0.022830314934253693 Model state dict: OrderedDict([('weights', tensor([0.7067])), ('bias', tensor([0.2622]))])\n",
            "Epoch: 200 | Loss: 0.014204869046807289 | Test_Loss: 0.02056179940700531 Model state dict: OrderedDict([('weights', tensor([0.7060])), ('bias', tensor([0.2662]))])\n",
            "Epoch: 210 | Loss: 0.012535976245999336 | Test_Loss: 0.018037185072898865 Model state dict: OrderedDict([('weights', tensor([0.7053])), ('bias', tensor([0.2702]))])\n",
            "Epoch: 220 | Loss: 0.010866647586226463 | Test_Loss: 0.015512118116021156 Model state dict: OrderedDict([('weights', tensor([0.7046])), ('bias', tensor([0.2742]))])\n",
            "Epoch: 230 | Loss: 0.009197759442031384 | Test_Loss: 0.01324406173080206 Model state dict: OrderedDict([('weights', tensor([0.7039])), ('bias', tensor([0.2782]))])\n",
            "Epoch: 240 | Loss: 0.007541762199252844 | Test_Loss: 0.012336187064647675 Model state dict: OrderedDict([('weights', tensor([0.7033])), ('bias', tensor([0.2823]))])\n",
            "Epoch: 250 | Loss: 0.0061055137775838375 | Test_Loss: 0.012642784044146538 Model state dict: OrderedDict([('weights', tensor([0.7030])), ('bias', tensor([0.2859]))])\n",
            "Epoch: 260 | Loss: 0.008224035613238811 | Test_Loss: 0.03290719538927078 Model state dict: OrderedDict([('weights', tensor([0.7048])), ('bias', tensor([0.2894]))])\n",
            "Epoch: 270 | Loss: 0.00410242797806859 | Test_Loss: 0.024119187146425247 Model state dict: OrderedDict([('weights', tensor([0.7036])), ('bias', tensor([0.2917]))])\n",
            "Epoch: 280 | Loss: 0.008829601109027863 | Test_Loss: 0.025853615254163742 Model state dict: OrderedDict([('weights', tensor([0.7036])), ('bias', tensor([0.2939]))])\n",
            "Epoch: 290 | Loss: 0.0026927960570901632 | Test_Loss: 0.036513227969408035 Model state dict: OrderedDict([('weights', tensor([0.7046])), ('bias', tensor([0.2956]))])\n",
            "Epoch: 300 | Loss: 0.0027416027151048183 | Test_Loss: 0.03611864894628525 Model state dict: OrderedDict([('weights', tensor([0.7044])), ('bias', tensor([0.2967]))])\n",
            "Epoch: 310 | Loss: 0.004530289210379124 | Test_Loss: 0.031023172661662102 Model state dict: OrderedDict([('weights', tensor([0.7037])), ('bias', tensor([0.2975]))])\n",
            "Epoch: 320 | Loss: 0.002984871855005622 | Test_Loss: 0.03359664976596832 Model state dict: OrderedDict([('weights', tensor([0.7039])), ('bias', tensor([0.2982]))])\n",
            "Epoch: 330 | Loss: 0.0021141991019248962 | Test_Loss: 0.034938227385282516 Model state dict: OrderedDict([('weights', tensor([0.7040])), ('bias', tensor([0.2987]))])\n",
            "Epoch: 340 | Loss: 0.001580661628395319 | Test_Loss: 0.03570189327001572 Model state dict: OrderedDict([('weights', tensor([0.7041])), ('bias', tensor([0.2991]))])\n",
            "Epoch: 350 | Loss: 0.0012225100072100759 | Test_Loss: 0.03618307411670685 Model state dict: OrderedDict([('weights', tensor([0.7041])), ('bias', tensor([0.2993]))])\n",
            "Epoch: 360 | Loss: 0.0009902209276333451 | Test_Loss: 0.03647472336888313 Model state dict: OrderedDict([('weights', tensor([0.7041])), ('bias', tensor([0.2995]))])\n",
            "Epoch: 370 | Loss: 0.000831281824503094 | Test_Loss: 0.03666379302740097 Model state dict: OrderedDict([('weights', tensor([0.7041])), ('bias', tensor([0.2997]))])\n",
            "Epoch: 380 | Loss: 0.0007189150201156735 | Test_Loss: 0.036791782826185226 Model state dict: OrderedDict([('weights', tensor([0.7041])), ('bias', tensor([0.2998]))])\n",
            "Epoch: 390 | Loss: 0.0006380145787261426 | Test_Loss: 0.03688003867864609 Model state dict: OrderedDict([('weights', tensor([0.7041])), ('bias', tensor([0.2998]))])\n",
            "Epoch: 400 | Loss: 0.0005857752985320985 | Test_Loss: 0.0369354709982872 Model state dict: OrderedDict([('weights', tensor([0.7041])), ('bias', tensor([0.2999]))])\n",
            "Epoch: 410 | Loss: 0.0005444815033115447 | Test_Loss: 0.03697827458381653 Model state dict: OrderedDict([('weights', tensor([0.7041])), ('bias', tensor([0.2999]))])\n",
            "Epoch: 420 | Loss: 0.0005195896374061704 | Test_Loss: 0.03663982078433037 Model state dict: OrderedDict([('weights', tensor([0.7041])), ('bias', tensor([0.3000]))])\n",
            "Epoch: 430 | Loss: 0.0006587774842046201 | Test_Loss: 0.03666461631655693 Model state dict: OrderedDict([('weights', tensor([0.7041])), ('bias', tensor([0.3000]))])\n",
            "Epoch: 440 | Loss: 0.0006338804378174245 | Test_Loss: 0.03668941184878349 Model state dict: OrderedDict([('weights', tensor([0.7041])), ('bias', tensor([0.3000]))])\n",
            "Epoch: 450 | Loss: 0.0006338804378174245 | Test_Loss: 0.03668941184878349 Model state dict: OrderedDict([('weights', tensor([0.7041])), ('bias', tensor([0.3000]))])\n",
            "Epoch: 460 | Loss: 0.0006338804378174245 | Test_Loss: 0.03668941184878349 Model state dict: OrderedDict([('weights', tensor([0.7041])), ('bias', tensor([0.3000]))])\n",
            "Epoch: 470 | Loss: 0.0006338804378174245 | Test_Loss: 0.03668941184878349 Model state dict: OrderedDict([('weights', tensor([0.7041])), ('bias', tensor([0.3000]))])\n",
            "Epoch: 480 | Loss: 0.0006338804378174245 | Test_Loss: 0.03668941184878349 Model state dict: OrderedDict([('weights', tensor([0.7041])), ('bias', tensor([0.3000]))])\n",
            "Epoch: 490 | Loss: 0.0006338804378174245 | Test_Loss: 0.03668941184878349 Model state dict: OrderedDict([('weights', tensor([0.7041])), ('bias', tensor([0.3000]))])\n"
          ]
        }
      ]
    },
    {
      "cell_type": "code",
      "source": [
        "plt.plot(epoch_count, torch.tensor(train_loss_values).numpy(), c ='r', label = \"Train Loss\")\n",
        "plt.plot(epoch_count, test_loss_values, c = 'b', label = \"Test Loss\")\n",
        "plt.title(\"Training and Test Loss Curves\")\n",
        "plt.xlabel(\"Epochs\")\n",
        "plt.ylabel(\"Loss\")\n",
        "plt.legend()\n",
        "plt.show()"
      ],
      "metadata": {
        "colab": {
          "base_uri": "https://localhost:8080/",
          "height": 472
        },
        "id": "tnKPiS5EZgj7",
        "outputId": "fdd2b72d-145d-4ffa-a31d-463f60dd3407"
      },
      "execution_count": 18,
      "outputs": [
        {
          "output_type": "display_data",
          "data": {
            "text/plain": [
              "<Figure size 640x480 with 1 Axes>"
            ],
            "image/png": "[encoded data removed]"
          },
          "metadata": {}
        }
      ]
    },
    {
      "cell_type": "code",
      "source": [
        "model_0.state_dict()"
      ],
      "metadata": {
        "colab": {
          "base_uri": "https://localhost:8080/"
        },
        "id": "3k9Bcimj2tE3",
        "outputId": "561e9b9c-f181-4f6a-8de4-ad695888dda4"
      },
      "execution_count": 19,
      "outputs": [
        {
          "output_type": "execute_result",
          "data": {
            "text/plain": [
              "OrderedDict([('weights', tensor([0.7001])), ('bias', tensor([0.2990]))])"
            ]
          },
          "metadata": {},
          "execution_count": 19
        }
      ]
    },
    {
      "cell_type": "code",
      "source": [
        "weight, bias"
      ],
      "metadata": {
        "colab": {
          "base_uri": "https://localhost:8080/"
        },
        "id": "LSxoEatwRSll",
        "outputId": "e0095eb1-32c6-4f73-e5cb-83356d16612c"
      },
      "execution_count": 20,
      "outputs": [
        {
          "output_type": "execute_result",
          "data": {
            "text/plain": [
              "(0.7, 0.3)"
            ]
          },
          "metadata": {},
          "execution_count": 20
        }
      ]
    },
    {
      "cell_type": "code",
      "source": [
        "with torch.inference_mode():\n",
        "  ypreds_new = model_0(X_test)"
      ],
      "metadata": {
        "id": "achlBiAiRUZa"
      },
      "execution_count": 21,
      "outputs": []
    },
    {
      "cell_type": "code",
      "source": [
        "plot_predictions(predictions=ypreds_new)"
      ],
      "metadata": {
        "colab": {
          "base_uri": "https://localhost:8080/",
          "height": 291
        },
        "id": "6DXm6HD5Sfr7",
        "outputId": "52a187ef-a00f-4b1c-f2fa-31d5f875ad10"
      },
      "execution_count": 22,
      "outputs": [
        {
          "output_type": "display_data",
          "data": {
            "text/plain": [
              "<Figure size 500x300 with 1 Axes>"
            ],
            "image/png": "[encoded data removed]"
          },
          "metadata": {}
        }
      ]
    },
    {
      "cell_type": "markdown",
      "source": [
        "###  Saving a Model in Pytorch\n",
        "\n",
        "There are three main methods you have for saving and loading models in Pytorch.\n",
        "\n",
        "1. torch.save() - allows you save a pytorch object in Python's pickle format\n",
        "2. torch.load() - allows you load a saved Pytorch Object\n",
        "3. torch.nn.Module.load_state_dict() - this allows to load a model's saved state dictionary"
      ],
      "metadata": {
        "id": "jNCums12dETK"
      }
    },
    {
      "cell_type": "code",
      "source": [
        "model_0.state_dict()"
      ],
      "metadata": {
        "colab": {
          "base_uri": "https://localhost:8080/"
        },
        "id": "RTkSMeNbdHLt",
        "outputId": "d9ba91a3-4ee4-4fe7-e2cd-a411cbcf128a"
      },
      "execution_count": 23,
      "outputs": [
        {
          "output_type": "execute_result",
          "data": {
            "text/plain": [
              "OrderedDict([('weights', tensor([0.7001])), ('bias', tensor([0.2990]))])"
            ]
          },
          "metadata": {},
          "execution_count": 23
        }
      ]
    },
    {
      "cell_type": "code",
      "source": [
        "from pathlib import Path\n",
        "\n",
        "#1. Create Model Directory\n",
        "MODEL_PATH = Path(\"models\")\n",
        "MODEL_PATH.mkdir(parents=True, exist_ok=True)\n",
        "\n",
        "#2. Create model save path\n",
        "MODEL_NAME = \"Project_One_Neural_Networks.pth\"\n",
        "MODEL_SAVE_PATH = MODEL_PATH / MODEL_NAME\n",
        "\n",
        "#3. Save the model state dict\n",
        "torch.save(obj = model_0.state_dict(), f = MODEL_SAVE_PATH)"
      ],
      "metadata": {
        "id": "3ZqN9FqFfLsp"
      },
      "execution_count": 24,
      "outputs": []
    },
    {
      "cell_type": "code",
      "source": [
        "!ls -l models"
      ],
      "metadata": {
        "colab": {
          "base_uri": "https://localhost:8080/"
        },
        "id": "zQNHIWHDkA9m",
        "outputId": "210364e6-f222-483c-cfd8-780217f34cdf"
      },
      "execution_count": 25,
      "outputs": [
        {
          "output_type": "stream",
          "name": "stdout",
          "text": [
            "total 4\n",
            "-rw-r--r-- 1 root root 1680 Apr  8 20:53 Project_One_Neural_Networks.pth\n"
          ]
        }
      ]
    },
    {
      "cell_type": "markdown",
      "source": [
        "### Loading a Pytorch Model\n",
        "\n",
        "Since we saved our model's state_dict() rather than entire model, we'll create a new instance of our model class and load the saved state_dict() into that"
      ],
      "metadata": {
        "id": "FDsb6A8wnOG6"
      }
    },
    {
      "cell_type": "code",
      "source": [
        "# To load a saved state_dict we have to instantiate a new instance of our model class\n",
        "loaded_model_0 = LinearregressionModel()\n",
        "\n",
        "loaded_model_0.state_dict()\n"
      ],
      "metadata": {
        "colab": {
          "base_uri": "https://localhost:8080/"
        },
        "id": "i5AM1RjGnoIE",
        "outputId": "8d5bd228-8258-4d4e-98af-c7ea5772cdae"
      },
      "execution_count": 26,
      "outputs": [
        {
          "output_type": "execute_result",
          "data": {
            "text/plain": [
              "OrderedDict([('weights', tensor([0.3367])), ('bias', tensor([0.1288]))])"
            ]
          },
          "metadata": {},
          "execution_count": 26
        }
      ]
    },
    {
      "cell_type": "code",
      "source": [
        "# Load the saved state_dict of model_0 (this will update the new instance with updated parameters)\n",
        "loaded_model_0.load_state_dict(torch.load(f=MODEL_SAVE_PATH))"
      ],
      "metadata": {
        "colab": {
          "base_uri": "https://localhost:8080/"
        },
        "id": "kryhvgvWoYsi",
        "outputId": "3a3a49c5-237f-46da-b376-cf04ba40ac82"
      },
      "execution_count": 27,
      "outputs": [
        {
          "output_type": "execute_result",
          "data": {
            "text/plain": [
              "<All keys matched successfully>"
            ]
          },
          "metadata": {},
          "execution_count": 27
        }
      ]
    },
    {
      "cell_type": "code",
      "source": [
        "loaded_model_0.state_dict()"
      ],
      "metadata": {
        "colab": {
          "base_uri": "https://localhost:8080/"
        },
        "id": "Yk1k7kqso16e",
        "outputId": "66aabbbc-9710-46d9-9666-c643a84940e9"
      },
      "execution_count": 28,
      "outputs": [
        {
          "output_type": "execute_result",
          "data": {
            "text/plain": [
              "OrderedDict([('weights', tensor([0.7001])), ('bias', tensor([0.2990]))])"
            ]
          },
          "metadata": {},
          "execution_count": 28
        }
      ]
    },
    {
      "cell_type": "markdown",
      "source": [
        "### Make some predictions with loaded model and compare with the original model predictions"
      ],
      "metadata": {
        "id": "yZF4K4RypT0t"
      }
    },
    {
      "cell_type": "code",
      "source": [
        "loaded_model_0.eval()\n",
        "model_0.eval()\n",
        "with torch.inference_mode():\n",
        "  loaded_model_preds = loaded_model_0(y_test)\n",
        "  model_0_preds = model_0(y_test)\n",
        "\n",
        "loaded_model_preds == model_0_preds"
      ],
      "metadata": {
        "colab": {
          "base_uri": "https://localhost:8080/"
        },
        "collapsed": true,
        "id": "tLqN0jCLpbLi",
        "outputId": "cd73f998-3196-412a-df8a-51bf1c014ddf"
      },
      "execution_count": 29,
      "outputs": [
        {
          "output_type": "execute_result",
          "data": {
            "text/plain": [
              "tensor([[True],\n",
              "        [True],\n",
              "        [True],\n",
              "        [True],\n",
              "        [True],\n",
              "        [True],\n",
              "        [True],\n",
              "        [True],\n",
              "        [True],\n",
              "        [True],\n",
              "        [True],\n",
              "        [True],\n",
              "        [True],\n",
              "        [True],\n",
              "        [True],\n",
              "        [True],\n",
              "        [True],\n",
              "        [True],\n",
              "        [True],\n",
              "        [True],\n",
              "        [True],\n",
              "        [True],\n",
              "        [True],\n",
              "        [True],\n",
              "        [True],\n",
              "        [True],\n",
              "        [True],\n",
              "        [True],\n",
              "        [True],\n",
              "        [True],\n",
              "        [True],\n",
              "        [True],\n",
              "        [True],\n",
              "        [True],\n",
              "        [True],\n",
              "        [True],\n",
              "        [True],\n",
              "        [True],\n",
              "        [True],\n",
              "        [True],\n",
              "        [True],\n",
              "        [True],\n",
              "        [True],\n",
              "        [True],\n",
              "        [True],\n",
              "        [True],\n",
              "        [True],\n",
              "        [True],\n",
              "        [True],\n",
              "        [True],\n",
              "        [True],\n",
              "        [True],\n",
              "        [True],\n",
              "        [True],\n",
              "        [True],\n",
              "        [True],\n",
              "        [True],\n",
              "        [True],\n",
              "        [True],\n",
              "        [True],\n",
              "        [True],\n",
              "        [True],\n",
              "        [True],\n",
              "        [True],\n",
              "        [True],\n",
              "        [True],\n",
              "        [True],\n",
              "        [True],\n",
              "        [True],\n",
              "        [True],\n",
              "        [True],\n",
              "        [True],\n",
              "        [True],\n",
              "        [True],\n",
              "        [True],\n",
              "        [True],\n",
              "        [True],\n",
              "        [True],\n",
              "        [True],\n",
              "        [True],\n",
              "        [True],\n",
              "        [True],\n",
              "        [True],\n",
              "        [True],\n",
              "        [True],\n",
              "        [True],\n",
              "        [True],\n",
              "        [True],\n",
              "        [True],\n",
              "        [True],\n",
              "        [True],\n",
              "        [True],\n",
              "        [True],\n",
              "        [True],\n",
              "        [True],\n",
              "        [True],\n",
              "        [True],\n",
              "        [True],\n",
              "        [True],\n",
              "        [True]])"
            ]
          },
          "metadata": {},
          "execution_count": 29
        }
      ]
    },
    {
      "cell_type": "markdown",
      "source": [
        "Putting it all Togeather"
      ],
      "metadata": {
        "id": "emefDhTMqnkm"
      }
    },
    {
      "cell_type": "code",
      "source": [
        "import torch\n",
        "import pandas as pd\n",
        "import numpy as np\n",
        "from torch import nn\n",
        "import matplotlib.pyplot as plt\n",
        "\n",
        "torch.__version__"
      ],
      "metadata": {
        "colab": {
          "base_uri": "https://localhost:8080/",
          "height": 36
        },
        "id": "oG4Hdla_rSp-",
        "outputId": "82870354-aa32-41fe-83ab-c9c505fbc368"
      },
      "execution_count": 299,
      "outputs": [
        {
          "output_type": "execute_result",
          "data": {
            "text/plain": [
              "'2.6.0+cu124'"
            ],
            "application/vnd.google.colaboratory.intrinsic+json": {
              "type": "string"
            }
          },
          "metadata": {},
          "execution_count": 299
        }
      ]
    },
    {
      "cell_type": "markdown",
      "source": [
        "Create Device-Agnostic Code\n",
        "\n",
        "this means if we've got access to GPU, our code will use it(for potentailly faster computing)\n",
        "\n",
        "If no GPU is available, the code will default to using CPU"
      ],
      "metadata": {
        "id": "CX8Bbg9frh-T"
      }
    },
    {
      "cell_type": "code",
      "source": [
        "device = \"cuda\" if torch.cuda.is_available() else \"cpu\"\n",
        "device"
      ],
      "metadata": {
        "colab": {
          "base_uri": "https://localhost:8080/",
          "height": 36
        },
        "id": "rlugPDBqrcsO",
        "outputId": "aa918a92-cf46-4a9a-c62a-d7a8d4b0d001"
      },
      "execution_count": 300,
      "outputs": [
        {
          "output_type": "execute_result",
          "data": {
            "text/plain": [
              "'cpu'"
            ],
            "application/vnd.google.colaboratory.intrinsic+json": {
              "type": "string"
            }
          },
          "metadata": {},
          "execution_count": 300
        }
      ]
    },
    {
      "cell_type": "markdown",
      "source": [
        "### Data"
      ],
      "metadata": {
        "id": "yHPJKuw5tVxt"
      }
    },
    {
      "cell_type": "code",
      "source": [
        "weight = 0.6\n",
        "bias = 0.1\n",
        "\n",
        "X = torch.arange(1, 500, 2, dtype=torch.float).unsqueeze(1)\n",
        "y = weight * X + bias\n",
        "\n",
        "plt.plot(X , y, label = \"Analysis Data\")\n",
        "plt.xlabel(\"X\")\n",
        "plt.ylabel(\"y\")\n",
        "plt.legend()\n",
        "plt.show()\n"
      ],
      "metadata": {
        "colab": {
          "base_uri": "https://localhost:8080/",
          "height": 449
        },
        "id": "K-BywQ9Jr_dE",
        "outputId": "584dce8c-1a55-40b9-aca8-c82f86a48815"
      },
      "execution_count": 301,
      "outputs": [
        {
          "output_type": "display_data",
          "data": {
            "text/plain": [
              "<Figure size 640x480 with 1 Axes>"
            ],
            "image/png": "[encoded data removed]"
          },
          "metadata": {}
        }
      ]
    },
    {
      "cell_type": "code",
      "source": [
        "len(X), 0.8 * len(X)"
      ],
      "metadata": {
        "colab": {
          "base_uri": "https://localhost:8080/"
        },
        "id": "ftU0EGDHvfGm",
        "outputId": "432f0b22-d66d-4736-87af-28bf47b83eb0"
      },
      "execution_count": 302,
      "outputs": [
        {
          "output_type": "execute_result",
          "data": {
            "text/plain": [
              "(250, 200.0)"
            ]
          },
          "metadata": {},
          "execution_count": 302
        }
      ]
    },
    {
      "cell_type": "code",
      "source": [
        "train_split = int(0.8 * len(X))\n",
        "X_train, y_train = X[: train_split], y[:train_split]\n",
        "X_test, y_test = X[train_split:], y[train_split:]\n",
        "len(X_train), len(X_test), len(y_train), len(y_test)"
      ],
      "metadata": {
        "colab": {
          "base_uri": "https://localhost:8080/"
        },
        "id": "RiA389hhtoql",
        "outputId": "759220a9-e028-4aba-dc67-4f49c3d1ff23"
      },
      "execution_count": 303,
      "outputs": [
        {
          "output_type": "execute_result",
          "data": {
            "text/plain": [
              "(200, 50, 200, 50)"
            ]
          },
          "metadata": {},
          "execution_count": 303
        }
      ]
    },
    {
      "cell_type": "code",
      "source": [
        "plot_predictions(X_train, y_train, X_test, y_test)"
      ],
      "metadata": {
        "colab": {
          "base_uri": "https://localhost:8080/",
          "height": 291
        },
        "id": "vxHD1MNxxKB7",
        "outputId": "b659bac7-1c41-4bfe-b1b1-89c56343bee3"
      },
      "execution_count": 304,
      "outputs": [
        {
          "output_type": "display_data",
          "data": {
            "text/plain": [
              "<Figure size 500x300 with 1 Axes>"
            ],
            "image/png": "[encoded data removed]"
          },
          "metadata": {}
        }
      ]
    },
    {
      "cell_type": "markdown",
      "source": [
        "### Building a Linear Pytoch Model"
      ],
      "metadata": {
        "id": "UBwXVmML1G4N"
      }
    },
    {
      "cell_type": "code",
      "source": [
        "class LinearRegressionModelV1(nn.Module):\n",
        "  def __init__(self):\n",
        "    super().__init__()\n",
        "    # use nn.Linear() for creating the model parameters / also called: linear transform, probing layer, fully connected layer, dense layer\n",
        "    self.linear_layer = nn.Linear(in_features=1, out_features=1)\n",
        "\n",
        "  def forward(self, x : torch.Tensor) -> torch.Tensor:\n",
        "    return self.linear_layer(x)"
      ],
      "metadata": {
        "id": "NAgd7H-R1Fa9"
      },
      "execution_count": 305,
      "outputs": []
    },
    {
      "cell_type": "code",
      "source": [
        "torch.manual_seed(42)\n",
        "model_v1 = LinearRegressionModelV1()\n",
        "model_v1.state_dict()"
      ],
      "metadata": {
        "colab": {
          "base_uri": "https://localhost:8080/"
        },
        "id": "hUXJD9an5Ru-",
        "outputId": "18f66e9f-9029-4cda-90d7-f1e665e793bb"
      },
      "execution_count": 306,
      "outputs": [
        {
          "output_type": "execute_result",
          "data": {
            "text/plain": [
              "OrderedDict([('linear_layer.weight', tensor([[0.7645]])),\n",
              "             ('linear_layer.bias', tensor([0.8300]))])"
            ]
          },
          "metadata": {},
          "execution_count": 306
        }
      ]
    },
    {
      "cell_type": "code",
      "source": [
        "list(model_v1.parameters())"
      ],
      "metadata": {
        "colab": {
          "base_uri": "https://localhost:8080/"
        },
        "id": "J8RzzXfO5qAd",
        "outputId": "032fe091-296f-4723-8751-5ded9cf7cb16"
      },
      "execution_count": 307,
      "outputs": [
        {
          "output_type": "execute_result",
          "data": {
            "text/plain": [
              "[Parameter containing:\n",
              " tensor([[0.7645]], requires_grad=True),\n",
              " Parameter containing:\n",
              " tensor([0.8300], requires_grad=True)]"
            ]
          },
          "metadata": {},
          "execution_count": 307
        }
      ]
    },
    {
      "cell_type": "code",
      "source": [
        "#Check Model Current Device\n",
        "next(model_v1.parameters()).device"
      ],
      "metadata": {
        "colab": {
          "base_uri": "https://localhost:8080/"
        },
        "id": "YWuQdvXf-CcJ",
        "outputId": "6bc40a12-9b17-4fac-8407-064b2be1b483"
      },
      "execution_count": 308,
      "outputs": [
        {
          "output_type": "execute_result",
          "data": {
            "text/plain": [
              "device(type='cpu')"
            ]
          },
          "metadata": {},
          "execution_count": 308
        }
      ]
    },
    {
      "cell_type": "code",
      "source": [
        "#Set the Model to use the target device\n",
        "model_v1.to(device)\n",
        "next(model_v1.parameters()).device"
      ],
      "metadata": {
        "colab": {
          "base_uri": "https://localhost:8080/"
        },
        "id": "_2qwZHND-REM",
        "outputId": "1e851af4-fe87-4c8f-963a-9d8898fbe122"
      },
      "execution_count": 309,
      "outputs": [
        {
          "output_type": "execute_result",
          "data": {
            "text/plain": [
              "device(type='cpu')"
            ]
          },
          "metadata": {},
          "execution_count": 309
        }
      ]
    },
    {
      "cell_type": "markdown",
      "source": [
        "### Training\n",
        "\n",
        "For training we need:\n",
        "\n",
        "* Loss Function\n",
        "* Optimizer\n",
        "* Training loop\n",
        "* Testing loop"
      ],
      "metadata": {
        "id": "BAaYW_71-sod"
      }
    },
    {
      "cell_type": "code",
      "source": [
        "# Setup Loss Function\n",
        "lossfn = nn.L1Loss()\n",
        "\n",
        "# Setup Optimizer\n",
        "optimizerv1 = torch.optim.SGD(params= model_v1.parameters(), lr = 0.001)"
      ],
      "metadata": {
        "id": "Nsr2wKHn6Ahq"
      },
      "execution_count": 310,
      "outputs": []
    },
    {
      "cell_type": "code",
      "source": [
        "torch.manual_seed(42)\n",
        "\n",
        "epochs_count = []\n",
        "training_loss_counts = []\n",
        "test_loss_counts = []\n",
        "\n",
        "epochs = 500\n",
        "X_train,y_train,X_test, y_test = X_train.to(device),y_train.to(device),X_test.to(device), y_test.to(device)\n",
        "\n",
        "for epoch in range(epochs):\n",
        "\n",
        "  model_v1.train()\n",
        "  y_pred = model_v1(X_train)\n",
        "  loss = lossfn(y_pred, y_train)\n",
        "  optimizerv1.zero_grad()\n",
        "  loss.backward()\n",
        "  optimizerv1.step()\n",
        "\n",
        "  model_v1.eval()\n",
        "  with torch.inference_mode():\n",
        "    y_test_pred = model_v1(X_test)\n",
        "    loss_test = lossfn(y_test, y_test_pred)\n",
        "\n",
        "  epochs_count.append(epoch)\n",
        "  training_loss_counts.append(loss)\n",
        "  test_loss_counts.append(loss_test)\n",
        "\n",
        "  if epoch % 100 == 0 :\n",
        "    print(f\"Epoch: {epoch} | Loss: {loss} | state_dict: {model_v1.state_dict()}\")\n"
      ],
      "metadata": {
        "colab": {
          "base_uri": "https://localhost:8080/"
        },
        "id": "BSPO8E5l5vIQ",
        "outputId": "72f535a1-482c-4736-9d87-029aeaffb835"
      },
      "execution_count": 311,
      "outputs": [
        {
          "output_type": "stream",
          "name": "stdout",
          "text": [
            "Epoch: 0 | Loss: 33.6377067565918 | state_dict: OrderedDict([('linear_layer.weight', tensor([[0.5645]])), ('linear_layer.bias', tensor([0.8290]))])\n"
          ]
        }
      ]
    },
    {
      "cell_type": "code",
      "source": [
        "with torch.inference_mode():\n",
        "  y_test_pred = model_v1(X_test)\n",
        "\n",
        "plot_predictions(xtrain=X_train, ytrain=y_train, xtest=X_test, ytest=y_test,predictions= y_test_pred)"
      ],
      "metadata": {
        "colab": {
          "base_uri": "https://localhost:8080/",
          "height": 291
        },
        "id": "0HztElzSN9s-",
        "outputId": "d1ef20e3-32b8-4ebc-af5d-3b5aa4733c9a"
      },
      "execution_count": 312,
      "outputs": [
        {
          "output_type": "display_data",
          "data": {
            "text/plain": [
              "<Figure size 500x300 with 1 Axes>"
            ],
            "image/png": "[encoded data removed]"
          },
          "metadata": {}
        }
      ]
    },
    {
      "cell_type": "code",
      "source": [
        "plt.plot(epochs_count, torch.tensor(training_loss_counts).numpy(), label = \"Training Loss\")\n",
        "plt.plot(epochs_count, test_loss_counts, label = \"Testing Loss\")\n",
        "plt.legend()\n",
        "plt.show()"
      ],
      "metadata": {
        "colab": {
          "base_uri": "https://localhost:8080/",
          "height": 430
        },
        "id": "1_ADQ-2gV0Td",
        "outputId": "94deeebf-dcb2-4e57-a5ff-960fb9ebfa4f"
      },
      "execution_count": 313,
      "outputs": [
        {
          "output_type": "display_data",
          "data": {
            "text/plain": [
              "<Figure size 640x480 with 1 Axes>"
            ],
            "image/png": "[encoded data removed]"
          },
          "metadata": {}
        }
      ]
    }
  ]
}